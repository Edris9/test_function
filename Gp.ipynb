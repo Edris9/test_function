{
 "cells": [
  {
   "cell_type": "code",
   "execution_count": null,
   "metadata": {},
   "outputs": [],
   "source": []
  },
  {
   "cell_type": "code",
   "execution_count": null,
   "metadata": {},
   "outputs": [],
   "source": []
  },
  {
   "cell_type": "code",
   "execution_count": 2,
   "metadata": {},
   "outputs": [
    {
     "name": "stdout",
     "output_type": "stream",
     "text": [
      "Grattis! Du har avancerat till nivå 1 och får 10% rabatt.\n",
      "Grattis! Du har avancerat till nivå 2 och får 25% rabatt.\n",
      "Efter rabatter blir priset.... 325.0\n"
     ]
    }
   ],
   "source": [
    "is_member = False\n",
    "level1 = 100\n",
    "level2 = 300\n",
    "discount = 0\n",
    "\n",
    "price = input(\"Välkommen, köp något dyrt: \")\n",
    "price = float(price)\n",
    "if price >= level2:\n",
    "    print(\"Grattis! Du har avancerat till nivå 1 och får 10% rabatt.\")\n",
    "    discount = discount + 10\n",
    "if price > level1:\n",
    "    print(\"Grattis! Du har avancerat till nivå 2 och får 25% rabatt.\")\n",
    "    discount = discount + 25\n",
    "\n",
    "final_price = price * (100 - discount) / 100\n",
    "print(\"Efter rabatter blir priset.... \" + str(final_price))"
   ]
  },
  {
   "cell_type": "markdown",
   "metadata": {},
   "source": [
    "## 1 \n",
    "Syftet med koden är att ger ut rabbater till de som köper något i olika nivå 100,300 och ger olika rabatter för dem."
   ]
  },
  {
   "cell_type": "markdown",
   "metadata": {},
   "source": [
    "## 2 \n",
    "vi körde koden med olika värde men koden kraschar för att det finns några fel i koden.\n"
   ]
  },
  {
   "cell_type": "code",
   "execution_count": 29,
   "metadata": {},
   "outputs": [
    {
     "name": "stdout",
     "output_type": "stream",
     "text": [
      "Grattis! Du har avancerat till nivå 1 och får 10% rabatt.\n",
      "Efter rabatter blir priset.... 450.0\n"
     ]
    }
   ],
   "source": [
    "is_member = False\n",
    "level1 = 100\n",
    "level2 = 300\n",
    "discount = 0\n",
    "\n",
    "price = input(\"Välkommen, köp något dyrt: \")\n",
    "price = float(price)\n",
    "if price > level1:\n",
    "    print(\"Grattis! Du har avancerat till nivå 1 och får 10% rabatt.\")\n",
    "    discount = discount + 10\n",
    "elif price >= level2:  # Ändrat 'if' till 'elif' här\n",
    "    print(\"Grattis! Du har avancerat till nivå 2 och får 25% rabatt.\")\n",
    "    discount = discount + 25\n",
    "\n",
    "final_price = price * (100 - discount) / 100\n",
    "print(\"Efter rabatter blir priset.... \" + str(final_price))# här borde vara en string metod för att kunna printa resultat"
   ]
  },
  {
   "cell_type": "code",
   "execution_count": 5,
   "metadata": {},
   "outputs": [
    {
     "name": "stdout",
     "output_type": "stream",
     "text": [
      "Efter rabatter blir priset.... 375.0 SEK. din rabatt är 25\n"
     ]
    }
   ],
   "source": [
    "# pris 500 kr\n",
    "price = float(input(\"Välkommen, köp något dyrt: \"))\n",
    "discount = 25 if price >= 300 else 10 if price > 100 else 0\n",
    "final_price = price * (100 - discount) / 100\n",
    "print(f\"Efter rabatter blir priset.... {final_price} SEK. din rabatt är {discount}\")"
   ]
  },
  {
   "cell_type": "markdown",
   "metadata": {},
   "source": [
    "## ANDRA GP"
   ]
  },
  {
   "cell_type": "code",
   "execution_count": 39,
   "metadata": {},
   "outputs": [
    {
     "name": "stdout",
     "output_type": "stream",
     "text": [
      "du får åka\n"
     ]
    }
   ],
   "source": [
    "height = float(input(\"Hur lång du är ?\"))\n",
    "if height in [129,130,131]:\n",
    "    print(\"du får åka\")\n",
    "else:\n",
    "    print(\"du får inte\")"
   ]
  },
  {
   "cell_type": "markdown",
   "metadata": {},
   "source": [
    "Under gräns, Precis på gräns,över graäns \n",
    "testar runt gränsvärden"
   ]
  },
  {
   "cell_type": "markdown",
   "metadata": {},
   "source": [
    "# Tredje GP"
   ]
  },
  {
   "cell_type": "code",
   "execution_count": 44,
   "metadata": {},
   "outputs": [
    {
     "name": "stdout",
     "output_type": "stream",
     "text": [
      "liverpool vann\n"
     ]
    }
   ],
   "source": [
    "totenham = input('Hurmånga mål gjorde totenham')\n",
    "liverpool = input('Hur många mål gjort liverpol')\n",
    "\n",
    "if totenham > liverpool:\n",
    "    print(\"totenham van\")\n",
    "elif liverpool > totenham:\n",
    "    print(\"liverpool vann\")\n",
    "else:\n",
    "    print(\"matchen är oavgjort\")\n"
   ]
  },
  {
   "cell_type": "code",
   "execution_count": 47,
   "metadata": {},
   "outputs": [
    {
     "name": "stdout",
     "output_type": "stream",
     "text": [
      "totenham van\n",
      "totenham van med 20\n"
     ]
    }
   ],
   "source": [
    "totenham = int(input('Hurmånga mål gjorde totenham'))\n",
    "liverpool = int(input('Hur många mål gjort liverpol'))\n",
    "\n",
    "if totenham > liverpool:\n",
    "    print(\"totenham van\")\n",
    "elif liverpool > totenham:\n",
    "    print(\"liverpool vann\")\n",
    "else:\n",
    "    print(\"matchen är oavgjort\")\n",
    "\n",
    "if totenham > liverpool:\n",
    "    print(f\"totenham van med {totenham - liverpool}\")\n",
    "elif liverpool > totenham:\n",
    "    print(f\"liverpool vann {liverpool - totenham}\")\n",
    "else:\n",
    "    print(\"matchen är oavgjort\")"
   ]
  },
  {
   "cell_type": "markdown",
   "metadata": {},
   "source": [
    "# Fjärde GP"
   ]
  },
  {
   "cell_type": "code",
   "execution_count": 60,
   "metadata": {},
   "outputs": [
    {
     "name": "stdout",
     "output_type": "stream",
     "text": [
      "Din celsius på farnhait blir 71.6\n"
     ]
    }
   ],
   "source": [
    "def celtofa():\n",
    "    celsius = float(input(\"skriv your celsius:\"))\n",
    "    fahrenheit = (celsius * 1.8) + 32\n",
    "    print(\"Din celsius på farnhait blir \" + str(round(fahrenheit, 4)))\n",
    "    \n",
    "\n",
    "celtofa()\n",
    "\n",
    "\n"
   ]
  },
  {
   "cell_type": "code",
   "execution_count": 65,
   "metadata": {},
   "outputs": [
    {
     "name": "stdout",
     "output_type": "stream",
     "text": [
      "Din fahrenheit på celsius blir 100.0\n"
     ]
    }
   ],
   "source": [
    "def celtofa():\n",
    "    input_type = input(\"Celsius or Fahrenheit (C/F)?: \").strip().lower()\n",
    "    temp = float(input(\"Enter the temperature: \"))\n",
    "\n",
    "    if input_type == 'c':\n",
    "        fahrenheit = 1.8 * temp + 32\n",
    "        print(\"Din celsius på fahrenheit blir \" + str(round(fahrenheit, 4)))\n",
    "    elif input_type == 'f':\n",
    "        celsius = (temp - 32) / 1.8\n",
    "        print(\"Din fahrenheit på celsius blir \" + str(round(celsius, 4)))\n",
    "    else:\n",
    "        print(\"Invalid input type. Please enter 'C' for Celsius or 'F' for Fahrenheit.\")\n",
    "\n",
    "celtofa()"
   ]
  },
  {
   "cell_type": "code",
   "execution_count": 73,
   "metadata": {},
   "outputs": [
    {
     "data": {
      "text/plain": [
       "15"
      ]
     },
     "execution_count": 73,
     "metadata": {},
     "output_type": "execute_result"
    }
   ],
   "source": [
    "ta1 = int(input(\"first digit\"))\n",
    "ta2 = int(input(\"second digit\"))\n",
    "ta3 = int(input(\"therd digit\"))\n",
    "sumofd = ta1,ta2,ta3\n",
    "sum(sumofd)\n"
   ]
  },
  {
   "cell_type": "code",
   "execution_count": null,
   "metadata": {},
   "outputs": [
    {
     "name": "stdout",
     "output_type": "stream",
     "text": [
      "Det mellersta talet är 3\n"
     ]
    }
   ],
   "source": [
    "ta1 = int(input(\"first digit\"))\n",
    "ta2 = int(input(\"second digit\"))\n",
    "ta3 = int(input(\"therd digit\"))\n",
    "sumofd = ta1, ta2, ta3\n",
    "\n",
    "if ta1 > ta2 and ta1 > ta3:\n",
    "    print(f'First input in {ta1} is biggest')\n",
    "elif ta2 > ta1 and ta2 > ta3:\n",
    "    print(f'Second input in {ta2} is biggest')\n",
    "elif ta3 > ta1 and ta3 > ta2:\n",
    "    print(f'Third input in {ta3} is biggest')\n",
    "else:\n",
    "    print('There is a tie')"
   ]
  },
  {
   "cell_type": "code",
   "execution_count": null,
   "metadata": {},
   "outputs": [
    {
     "name": "stdout",
     "output_type": "stream",
     "text": [
      "Det mellersta talet är 23456543\n",
      "2345\n",
      "23456543\n",
      "62452342\n",
      "Det största talet är 62452342\n"
     ]
    }
   ],
   "source": [
    "ta1 = int(input(\"first digit\"))\n",
    "ta2 = int(input(\"second digit\"))\n",
    "ta3 = int(input(\"therd digit\"))\n",
    "\n",
    "if ta1 == ta2 == ta3:\n",
    "    print(\"Alla tre tal är lika.\")\n",
    "elif ta1 != ta2 and ta1 != ta3 and ta2 != ta3:\n",
    "    if (ta1 < ta2 < ta3) or (ta3 < ta2 < ta1):\n",
    "        print(f'Det mellersta talet är {ta2}')\n",
    "    elif (ta2 < ta1 < ta3) or (ta3 < ta1 < ta2):\n",
    "        print(f'Det mellersta talet är {ta1}')\n",
    "    elif (ta1 < ta3 < ta2) or (ta2 < ta3 < ta1):\n",
    "        print(f'Det mellersta talet är {ta3}')\n",
    "else:\n",
    "    print(\"Det finns inget mellersta tal eftersom två av talen är lika.\")\n",
    "\n",
    "for i in [ta1, ta2, ta3]:\n",
    "    print(f\"Det största talet är {max(ta1, ta2, ta3)}\")"
   ]
  }
 ],
 "metadata": {
  "kernelspec": {
   "display_name": "Python 3",
   "language": "python",
   "name": "python3"
  },
  "language_info": {
   "codemirror_mode": {
    "name": "ipython",
    "version": 3
   },
   "file_extension": ".py",
   "mimetype": "text/x-python",
   "name": "python",
   "nbconvert_exporter": "python",
   "pygments_lexer": "ipython3",
   "version": "3.10.8"
  }
 },
 "nbformat": 4,
 "nbformat_minor": 2
}
