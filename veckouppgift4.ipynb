{
 "cells": [
  {
   "cell_type": "code",
   "execution_count": 55,
   "metadata": {},
   "outputs": [
    {
     "name": "stdout",
     "output_type": "stream",
     "text": [
      "EDRIS\n"
     ]
    }
   ],
   "source": [
    "def foo(t):\n",
    "    print(\"EDRIS\")\n",
    "\n",
    "foo(\"EDRIS2\")"
   ]
  },
  {
   "cell_type": "code",
   "execution_count": 56,
   "metadata": {},
   "outputs": [
    {
     "data": {
      "text/plain": [
       "54"
      ]
     },
     "execution_count": 56,
     "metadata": {},
     "output_type": "execute_result"
    }
   ],
   "source": [
    "def func(x,y):\n",
    "    return x+y\n",
    "\n",
    "\n",
    "func(20,34)"
   ]
  },
  {
   "cell_type": "code",
   "execution_count": 57,
   "metadata": {},
   "outputs": [
    {
     "data": {
      "text/plain": [
       "680"
      ]
     },
     "execution_count": 57,
     "metadata": {},
     "output_type": "execute_result"
    }
   ],
   "source": [
    "def func(x,y):\n",
    "    return x*y\n",
    "\n",
    "\n",
    "func(20,34)"
   ]
  },
  {
   "cell_type": "code",
   "execution_count": 58,
   "metadata": {},
   "outputs": [
    {
     "name": "stdout",
     "output_type": "stream",
     "text": [
      "175\n"
     ]
    }
   ],
   "source": [
    "def func3(i):\n",
    "    return 5*i\n",
    "x=2\n",
    "y=5\n",
    "a=func3(func3(x) + func3(y))\n",
    "print(a)"
   ]
  },
  {
   "cell_type": "code",
   "execution_count": 59,
   "metadata": {},
   "outputs": [
    {
     "data": {
      "text/plain": [
       "175"
      ]
     },
     "execution_count": 59,
     "metadata": {},
     "output_type": "execute_result"
    }
   ],
   "source": [
    "35 * 5"
   ]
  },
  {
   "cell_type": "code",
   "execution_count": 60,
   "metadata": {},
   "outputs": [
    {
     "name": "stdout",
     "output_type": "stream",
     "text": [
      "7\n"
     ]
    }
   ],
   "source": [
    "a = 5\n",
    "def fun3(a):\n",
    "    a += 1\n",
    "\n",
    "a += 2\n",
    "print(a)\n"
   ]
  },
  {
   "cell_type": "code",
   "execution_count": 61,
   "metadata": {},
   "outputs": [
    {
     "name": "stdout",
     "output_type": "stream",
     "text": [
      "18\n"
     ]
    }
   ],
   "source": [
    "def foo(i):\n",
    "    return 2*i*i\n",
    "\n",
    "def goo(x, y):\n",
    "    return x(y)\n",
    "\n",
    "a = goo(foo, 3)\n",
    "print(a)\n"
   ]
  },
  {
   "cell_type": "code",
   "execution_count": 62,
   "metadata": {},
   "outputs": [
    {
     "name": "stdout",
     "output_type": "stream",
     "text": [
      "False\n",
      "True\n"
     ]
    }
   ],
   "source": [
    "def is_number(x):\n",
    "    if isinstance(x, int):\n",
    "        return True\n",
    "    elif isinstance(x, float):\n",
    "        return True\n",
    "    return False\n",
    "print(is_number(\"3\"))\n",
    "print(is_number(42))"
   ]
  },
  {
   "cell_type": "code",
   "execution_count": 63,
   "metadata": {},
   "outputs": [
    {
     "data": {
      "text/plain": [
       "[\"how's\", 'going', 'coding']"
      ]
     },
     "execution_count": 63,
     "metadata": {},
     "output_type": "execute_result"
    }
   ],
   "source": [
    "def average_words(strings):\n",
    "    found = []\n",
    "    for item in strings:\n",
    "        if 4 < len(item) < 8:\n",
    "            found.append(item)\n",
    "    return found\n",
    "\n",
    "average_words([\"sup\", \"how's\", \"it\", \"going\", \"reflecting\", \"on\", \"programs\", \"and\", \"coding\"])\n"
   ]
  },
  {
   "cell_type": "code",
   "execution_count": 64,
   "metadata": {},
   "outputs": [
    {
     "name": "stdout",
     "output_type": "stream",
     "text": [
      "The smallest item is: -11\n"
     ]
    },
    {
     "data": {
      "text/plain": [
       "-11"
      ]
     },
     "execution_count": 64,
     "metadata": {},
     "output_type": "execute_result"
    }
   ],
   "source": [
    "def find_min(numbers):\n",
    "    counter = 0\n",
    "    for item in numbers:\n",
    "        if item < counter:\n",
    "            counter = item\n",
    "    print(f\"The smallest item is: {counter}\")\n",
    "    return counter\n",
    "\n",
    "find_min([10, 3, -4, -11])\n"
   ]
  },
  {
   "cell_type": "code",
   "execution_count": 65,
   "metadata": {},
   "outputs": [
    {
     "name": "stdout",
     "output_type": "stream",
     "text": [
      "The smallest item is: 0\n"
     ]
    },
    {
     "data": {
      "text/plain": [
       "0"
      ]
     },
     "execution_count": 65,
     "metadata": {},
     "output_type": "execute_result"
    }
   ],
   "source": [
    "find_min([])\n",
    "\n"
   ]
  },
  {
   "cell_type": "code",
   "execution_count": 66,
   "metadata": {},
   "outputs": [
    {
     "name": "stdout",
     "output_type": "stream",
     "text": [
      "The smallest item is: 0\n"
     ]
    },
    {
     "data": {
      "text/plain": [
       "0"
      ]
     },
     "execution_count": 66,
     "metadata": {},
     "output_type": "execute_result"
    }
   ],
   "source": [
    "find_min([100])"
   ]
  },
  {
   "cell_type": "code",
   "execution_count": 67,
   "metadata": {},
   "outputs": [
    {
     "name": "stdout",
     "output_type": "stream",
     "text": [
      "EDRIS är en bra kille\n"
     ]
    }
   ],
   "source": [
    "from veckouppgift4v2 import my_function\n",
    "\n",
    "my_function(\"EDRIS\")"
   ]
  },
  {
   "cell_type": "code",
   "execution_count": 68,
   "metadata": {},
   "outputs": [
    {
     "name": "stdout",
     "output_type": "stream",
     "text": [
      "hejhejhej\n"
     ]
    }
   ],
   "source": [
    "from veckouppgift4v2 import eko\n",
    "\n",
    "\n",
    "eko()"
   ]
  },
  {
   "cell_type": "code",
   "execution_count": 69,
   "metadata": {},
   "outputs": [
    {
     "name": "stdout",
     "output_type": "stream",
     "text": [
      "HejHejHejHej\n"
     ]
    }
   ],
   "source": [
    "from veckouppgift4v2 import cont\n",
    "cont()"
   ]
  },
  {
   "cell_type": "code",
   "execution_count": 84,
   "metadata": {},
   "outputs": [
    {
     "name": "stdout",
     "output_type": "stream",
     "text": [
      "32\n"
     ]
    }
   ],
   "source": [
    "\n",
    "def call():\n",
    "    end = 5\n",
    "    y = 1\n",
    "    for x in range(1, 100):\n",
    "        y *= 2\n",
    "        if x == end:\n",
    "            break\n",
    "    return y\n",
    " \n",
    "res = call()\n",
    "print(res)"
   ]
  },
  {
   "cell_type": "code",
   "execution_count": 87,
   "metadata": {},
   "outputs": [
    {
     "data": {
      "text/plain": [
       "3"
      ]
     },
     "execution_count": 87,
     "metadata": {},
     "output_type": "execute_result"
    }
   ],
   "source": [
    "list = (1,2,3)\n",
    "\n",
    "def func(list):\n",
    "    return list[-1]\n",
    "\n",
    "func(list)\n"
   ]
  },
  {
   "cell_type": "code",
   "execution_count": 3,
   "metadata": {},
   "outputs": [
    {
     "data": {
      "text/plain": [
       "[2, 3]"
      ]
     },
     "execution_count": 3,
     "metadata": {},
     "output_type": "execute_result"
    }
   ],
   "source": [
    "lista = [1,2,3,4]\n",
    "\n",
    "def cure(lista):\n",
    "    lista.pop(0)  # removes first element\n",
    "    lista.pop(-1)  # removes last element\n",
    "    return lista\n",
    "\n",
    "cure(lista)\n"
   ]
  },
  {
   "cell_type": "code",
   "execution_count": 8,
   "metadata": {},
   "outputs": [
    {
     "data": {
      "text/plain": [
       "3"
      ]
     },
     "execution_count": 8,
     "metadata": {},
     "output_type": "execute_result"
    }
   ],
   "source": [
    "def increase(x):\n",
    "    \n",
    "    x += 1\n",
    "    return x\n",
    "increase(2)\n"
   ]
  },
  {
   "cell_type": "code",
   "execution_count": 18,
   "metadata": {},
   "outputs": [
    {
     "name": "stdout",
     "output_type": "stream",
     "text": [
      "Average: 6\n"
     ]
    },
    {
     "data": {
      "text/plain": [
       "6"
      ]
     },
     "execution_count": 18,
     "metadata": {},
     "output_type": "execute_result"
    }
   ],
   "source": [
    "from statistics import mean\n",
    "\n",
    "def avrage(numbers):\n",
    "    result = mean(numbers) \n",
    "    print(\"Average:\", result)\n",
    "    return result\n",
    "\n",
    "\n",
    "lista = [4, 8] \n",
    "avrage(lista)   "
   ]
  },
  {
   "cell_type": "code",
   "execution_count": 22,
   "metadata": {},
   "outputs": [
    {
     "name": "stdout",
     "output_type": "stream",
     "text": [
      "Listan har 3 element:\n",
      "1. a\n",
      "2. b\n",
      "3. 3.14\n"
     ]
    }
   ],
   "source": [
    "def pretty_print(list):\n",
    "    if len(list) == 0:\n",
    "        print(\"Listan är tom\")\n",
    "    else:\n",
    "        print(f\"Listan har {len(list)} element:\")\n",
    "        for i, item in enumerate(list, 1):\n",
    "            print(f\"{i}. {item}\")\n",
    "\n",
    "pretty_print([\"a\", \"b\", 3.14])"
   ]
  },
  {
   "cell_type": "code",
   "execution_count": 23,
   "metadata": {},
   "outputs": [
    {
     "name": "stdout",
     "output_type": "stream",
     "text": [
      "The first sum that exceeds 21 is 28, reached at number 7\n"
     ]
    },
    {
     "data": {
      "text/plain": [
       "7"
      ]
     },
     "execution_count": 23,
     "metadata": {},
     "output_type": "execute_result"
    }
   ],
   "source": [
    "\n",
    "def find_first_sum_over_21():\n",
    "    sum = 0\n",
    "    n = 1\n",
    "    while sum <= 21:\n",
    "        sum += n\n",
    "        n += 1\n",
    "    print(f\"The first sum that exceeds 21 is {sum}, reached at number {n-1}\")\n",
    "    return n-1\n",
    "\n",
    "find_first_sum_over_21()"
   ]
  },
  {
   "cell_type": "code",
   "execution_count": 31,
   "metadata": {},
   "outputs": [
    {
     "name": "stdout",
     "output_type": "stream",
     "text": [
      "Drew a 2, sum is now 2\n",
      "Drew a 10, sum is now 12\n",
      "Drew a 13, sum is now 25\n",
      "The sum 25 exceeded 21 after 3 cards\n"
     ]
    },
    {
     "data": {
      "text/plain": [
       "3"
      ]
     },
     "execution_count": 31,
     "metadata": {},
     "output_type": "execute_result"
    }
   ],
   "source": [
    "import random\n",
    "\n",
    "def find_first_sum_over_21():\n",
    "    sum = 0\n",
    "    draws = 0\n",
    "    while sum <= 21:\n",
    "        card = random.randint(1, 13)\n",
    "        sum += card\n",
    "        draws += 1\n",
    "        print(f\"Drew a {card}, sum is now {sum}\")\n",
    "    print(f\"The sum {sum} exceeded 21 after {draws} cards\")\n",
    "    return draws\n",
    "\n",
    "find_first_sum_over_21()"
   ]
  },
  {
   "cell_type": "code",
   "execution_count": 32,
   "metadata": {},
   "outputs": [],
   "source": [
    "import random\n",
    "\n",
    "def slumpa_kort():\n",
    "    färger = [\"ruter\", \"hjärter\", \"spader\", \"klöver\"]\n",
    "    valörer = list(range(2, 15))  # 2 till 14 (ess)\n",
    "    return [random.choice(färger), random.choice(valörer)]"
   ]
  },
  {
   "cell_type": "code",
   "execution_count": 33,
   "metadata": {},
   "outputs": [],
   "source": [
    "def samma_valör(kort1, kort2):\n",
    "    return kort1[1] == kort2[1]"
   ]
  },
  {
   "cell_type": "code",
   "execution_count": 34,
   "metadata": {},
   "outputs": [],
   "source": [
    "def pretty_print_card(kort):\n",
    "    färg, valör = kort\n",
    "    valör_namn = {\n",
    "        11: \"knekt\",\n",
    "        12: \"dam\",\n",
    "        13: \"kung\",\n",
    "        14: \"ess\"\n",
    "    }\n",
    "    valör_text = valör_namn.get(valör, str(valör))  # Använd namn om det finns, annars siffra\n",
    "    return f\"{färg} {valör_text}\""
   ]
  },
  {
   "cell_type": "code",
   "execution_count": 35,
   "metadata": {},
   "outputs": [],
   "source": [
    "def poker_hand(kort):\n",
    "    # Extrahera valörer och färger\n",
    "    valörer = [kort[1] for kort in kort]\n",
    "    färger = [kort[0] for kort in kort]\n",
    "\n",
    "    # Räkna förekomster av varje valör\n",
    "    valör_count = {}\n",
    "    for valör in valörer:\n",
    "        valör_count[valör] = valör_count.get(valör, 0) + 1\n",
    "\n",
    "    # Kolla efter pokerhänder\n",
    "    if len(set(färger)) == 1 and sorted(valörer) == list(range(min(valörer), max(valörer) + 1)):\n",
    "        return \"Straight flush\"\n",
    "    elif 4 in valör_count.values():\n",
    "        return \"Fyrtal\"\n",
    "    elif sorted(valör_count.values()) == [2, 3]:\n",
    "        return \"Hus\"\n",
    "    elif len(set(färger)) == 1:\n",
    "        return \"Flush\"\n",
    "    elif sorted(valörer) == list(range(min(valörer), max(valörer) + 1)):\n",
    "        return \"Straight\"\n",
    "    elif 3 in valör_count.values():\n",
    "        return \"Tretal\"\n",
    "    elif list(valör_count.values()).count(2) == 2:\n",
    "        return \"Två par\"\n",
    "    elif 2 in valör_count.values():\n",
    "        return \"Ett par\"\n",
    "    else:\n",
    "        return \"Inget bra, högsta kort: \" + pretty_print_card(max(kort, key=lambda x: x[1]))"
   ]
  },
  {
   "cell_type": "code",
   "execution_count": 36,
   "metadata": {},
   "outputs": [
    {
     "name": "stdout",
     "output_type": "stream",
     "text": [
      "Din hand:\n",
      "hjärter 10\n",
      "hjärter knekt\n",
      "klöver 2\n",
      "hjärter ess\n",
      "spader 6\n",
      "Resultat: Inget bra, högsta kort: hjärter ess\n"
     ]
    }
   ],
   "source": [
    "# Skapa en hand med 5 kort\n",
    "hand = [slumpa_kort() for _ in range(5)]\n",
    "\n",
    "# Skriv ut handen\n",
    "print(\"Din hand:\")\n",
    "for kort in hand:\n",
    "    print(pretty_print_card(kort))\n",
    "\n",
    "# Utvärdera handen\n",
    "resultat = poker_hand(hand)\n",
    "print(\"Resultat:\", resultat)"
   ]
  }
 ],
 "metadata": {
  "kernelspec": {
   "display_name": "Python 3",
   "language": "python",
   "name": "python3"
  },
  "language_info": {
   "codemirror_mode": {
    "name": "ipython",
    "version": 3
   },
   "file_extension": ".py",
   "mimetype": "text/x-python",
   "name": "python",
   "nbconvert_exporter": "python",
   "pygments_lexer": "ipython3",
   "version": "3.10.8"
  }
 },
 "nbformat": 4,
 "nbformat_minor": 2
}
