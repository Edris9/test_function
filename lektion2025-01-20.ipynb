{
 "cells": [
  {
   "cell_type": "code",
   "execution_count": 4,
   "metadata": {},
   "outputs": [
    {
     "name": "stdout",
     "output_type": "stream",
     "text": [
      "du är rik \n"
     ]
    }
   ],
   "source": [
    "x = 1\n",
    "\n",
    "if x > 0:\n",
    "    print(\"du är rik \")\n",
    "else:\n",
    "    print(\"du ej rik\")"
   ]
  },
  {
   "cell_type": "code",
   "execution_count": 9,
   "metadata": {},
   "outputs": [
    {
     "name": "stdout",
     "output_type": "stream",
     "text": [
      "0\n",
      "1\n",
      "2\n",
      "3\n",
      "4\n"
     ]
    }
   ],
   "source": [
    "i = 20\n",
    "\n",
    "\n",
    "for i in range(5):\n",
    "    print(*str(i))"
   ]
  },
  {
   "cell_type": "code",
   "execution_count": 11,
   "metadata": {},
   "outputs": [
    {
     "name": "stdout",
     "output_type": "stream",
     "text": [
      "10\n",
      "9\n",
      "8\n",
      "7\n",
      "6\n",
      "5\n",
      "4\n",
      "3\n",
      "2\n",
      "1\n",
      "slit på loopen \n"
     ]
    }
   ],
   "source": [
    "r = 10\n",
    "\n",
    "while r > 0:\n",
    "    print(r)\n",
    "\n",
    "    r = r -1 \n",
    "\n",
    "print(\"slit på loopen \")"
   ]
  },
  {
   "cell_type": "code",
   "execution_count": 31,
   "metadata": {},
   "outputs": [
    {
     "name": "stdout",
     "output_type": "stream",
     "text": [
      "Edris\n",
      "Hasib\n",
      "Daniel\n"
     ]
    }
   ],
   "source": [
    "user_name = \"Edris\"\n",
    "\n",
    "firends = ['Edris','Hasib','Daniel']\n",
    "\n",
    "\n",
    "for i in firends:\n",
    "    print(i)"
   ]
  },
  {
   "cell_type": "code",
   "execution_count": 18,
   "metadata": {},
   "outputs": [
    {
     "name": "stdout",
     "output_type": "stream",
     "text": [
      "Arezo\n",
      "Edris\n",
      "Hasib\n",
      "Daniel\n"
     ]
    }
   ],
   "source": [
    "user_name = \"Edris\"\n",
    "\n",
    "firends = ['Edris','Hasib','Daniel']\n",
    "\n",
    "firends.insert(0, \"Arezo\")\n",
    "\n",
    "for i in firends:\n",
    "    print(i)"
   ]
  },
  {
   "cell_type": "code",
   "execution_count": 22,
   "metadata": {},
   "outputs": [
    {
     "data": {
      "text/plain": [
       "1"
      ]
     },
     "execution_count": 22,
     "metadata": {},
     "output_type": "execute_result"
    }
   ],
   "source": [
    "9# Count the occurrences of 'Edris' in the list\n",
    "firends.count('Edris')"
   ]
  },
  {
   "cell_type": "code",
   "execution_count": 26,
   "metadata": {},
   "outputs": [
    {
     "name": "stdout",
     "output_type": "stream",
     "text": [
      "dd\n",
      "dd\n",
      "dd\n",
      "dd\n",
      "dd\n",
      "dd\n",
      "Arezo\n",
      "dd\n",
      "Hasib\n",
      "Daniel\n"
     ]
    }
   ],
   "source": [
    "for i in range(len(firends)):\n",
    "    if firends[i] == 'Edris':\n",
    "        firends[i] = 'dd'\n",
    "        for friend in firends:\n",
    "            print(friend)\n"
   ]
  },
  {
   "cell_type": "code",
   "execution_count": 35,
   "metadata": {},
   "outputs": [
    {
     "name": "stdout",
     "output_type": "stream",
     "text": [
      "Edris\n"
     ]
    }
   ],
   "source": [
    "\n",
    "\n",
    "firends = ['Edris','Hasib','Daniel']\n",
    "print(firends[0])"
   ]
  },
  {
   "cell_type": "code",
   "execution_count": 36,
   "metadata": {},
   "outputs": [
    {
     "name": "stdout",
     "output_type": "stream",
     "text": [
      "['Edris', 'Hasib', 'Daniel', 'Azita']\n"
     ]
    }
   ],
   "source": [
    "firends.append('Azita')\n",
    "print(firends)"
   ]
  },
  {
   "cell_type": "code",
   "execution_count": 39,
   "metadata": {},
   "outputs": [
    {
     "name": "stdout",
     "output_type": "stream",
     "text": [
      "Edris\n",
      "Edris\n",
      "Edris\n",
      "Edris\n"
     ]
    }
   ],
   "source": [
    "for i in firends:\n",
    "    i ='Edris'\n",
    "    print(i)"
   ]
  },
  {
   "cell_type": "code",
   "execution_count": null,
   "metadata": {},
   "outputs": [],
   "source": []
  }
 ],
 "metadata": {
  "kernelspec": {
   "display_name": "Python 3",
   "language": "python",
   "name": "python3"
  },
  "language_info": {
   "codemirror_mode": {
    "name": "ipython",
    "version": 3
   },
   "file_extension": ".py",
   "mimetype": "text/x-python",
   "name": "python",
   "nbconvert_exporter": "python",
   "pygments_lexer": "ipython3",
   "version": "3.10.8"
  }
 },
 "nbformat": 4,
 "nbformat_minor": 2
}
