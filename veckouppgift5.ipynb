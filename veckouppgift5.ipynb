{
 "cells": [
  {
   "cell_type": "code",
   "execution_count": 3,
   "metadata": {},
   "outputs": [
    {
     "name": "stdout",
     "output_type": "stream",
     "text": [
      "87\n"
     ]
    }
   ],
   "source": [
    "import heapq\n",
    "def find_2nd_large(numbers=None):\n",
    "    if numbers is None:\n",
    "        numbers = [32,554,34,65,87,45,50]\n",
    "    sec_larg = heapq.nlargest(2,numbers)\n",
    "    print(sec_larg[1])\n",
    "\n",
    "find_2nd_large()"
   ]
  },
  {
   "cell_type": "code",
   "execution_count": 7,
   "metadata": {},
   "outputs": [
    {
     "data": {
      "text/plain": [
       "87"
      ]
     },
     "execution_count": 7,
     "metadata": {},
     "output_type": "execute_result"
    }
   ],
   "source": [
    "\n",
    "def find_2nd_large(numbers=None):\n",
    "    numbers = [32,554,34,65,87,45,50]\n",
    "    for i in numbers:\n",
    "        if i == sorted(numbers)[-2]:\n",
    "            return i\n",
    "\n",
    "find_2nd_large()"
   ]
  },
  {
   "cell_type": "code",
   "execution_count": null,
   "metadata": {},
   "outputs": [],
   "source": []
  }
 ],
 "metadata": {
  "kernelspec": {
   "display_name": "Python 3",
   "language": "python",
   "name": "python3"
  },
  "language_info": {
   "codemirror_mode": {
    "name": "ipython",
    "version": 3
   },
   "file_extension": ".py",
   "mimetype": "text/x-python",
   "name": "python",
   "nbconvert_exporter": "python",
   "pygments_lexer": "ipython3",
   "version": "3.10.8"
  }
 },
 "nbformat": 4,
 "nbformat_minor": 2
}
